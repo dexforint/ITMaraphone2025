{
 "cells": [
  {
   "cell_type": "code",
   "execution_count": 1,
   "id": "a69dedf1",
   "metadata": {},
   "outputs": [],
   "source": [
    "import sys\n",
    "\n",
    "# sys.path.insert(1, '../../services/SeleniumTools')\n",
    "sys.path.insert(1, '../AutomationTools/services/SeleniumTools')\n",
    "# sys.path.insert(1, '../../services/TempEmail')\n",
    "# sys.path.insert(1, '../../services/RapidAPI')\n",
    "# sys.path.insert(1, '../../services/Tools')\n",
    "# sys.path.insert(1, '../../services/CaptchaSolving')\n",
    "# sys.path.insert(1, '../../services/SMS')\n",
    "# sys.path.insert(1, '../../services/Proxy')"
   ]
  },
  {
   "cell_type": "code",
   "execution_count": 7,
   "id": "955976b2",
   "metadata": {},
   "outputs": [],
   "source": [
    "from selenium_base_tools import get_seleniumbase_driver\n",
    "from selenium.webdriver.common.by import By\n",
    "from selenium.webdriver.support.ui import WebDriverWait\n",
    "from selenium.webdriver.support import expected_conditions as EC\n",
    "import time"
   ]
  },
  {
   "cell_type": "code",
   "execution_count": 3,
   "id": "c9730d28",
   "metadata": {},
   "outputs": [],
   "source": [
    "driver = get_seleniumbase_driver(headless=False, use_browsec_vpn=False)"
   ]
  },
  {
   "cell_type": "code",
   "execution_count": 5,
   "id": "5d3bb4f3",
   "metadata": {},
   "outputs": [],
   "source": [
    "driver.uc_open(\"https://it-marathon.21-school.ru/auth/sign-in\")"
   ]
  },
  {
   "cell_type": "code",
   "execution_count": null,
   "id": "9e9c4494",
   "metadata": {},
   "outputs": [],
   "source": [
    "# !Cookie\n",
    "button = WebDriverWait(driver, 10).until(\n",
    "    EC.element_to_be_clickable((By.XPATH, f\"//p[contains(text(),'Принять')]/../..\"))\n",
    ")\n",
    "button.click()"
   ]
  },
  {
   "cell_type": "code",
   "execution_count": null,
   "id": "66f27d25",
   "metadata": {},
   "outputs": [],
   "source": [
    "email_input = WebDriverWait(driver, 10).until(\n",
    "    EC.visibility_of_element_located((By.XPATH, \"//input[@label='E-mail*']\"))\n",
    ")\n",
    "email_input.send_keys(\"dexforint@mail.ru\")"
   ]
  },
  {
   "cell_type": "code",
   "execution_count": null,
   "id": "9eda0e76",
   "metadata": {},
   "outputs": [],
   "source": [
    "password_input = WebDriverWait(driver, 10).until(\n",
    "    EC.visibility_of_element_located((By.XPATH, \"//input[@label='Пароль']\"))\n",
    ")\n",
    "password_input.send_keys(\"gScLDU7ZsQDDRp2\")"
   ]
  },
  {
   "cell_type": "code",
   "execution_count": 10,
   "id": "38bb0564",
   "metadata": {},
   "outputs": [],
   "source": [
    "# !Войти\n",
    "button = WebDriverWait(driver, 10).until(\n",
    "    EC.element_to_be_clickable((By.XPATH, f\"//p[contains(text(),'Войти')]/../..\"))\n",
    ")\n",
    "button.click()"
   ]
  }
 ],
 "metadata": {
  "kernelspec": {
   "display_name": "Python 3",
   "language": "python",
   "name": "python3"
  },
  "language_info": {
   "codemirror_mode": {
    "name": "ipython",
    "version": 3
   },
   "file_extension": ".py",
   "mimetype": "text/x-python",
   "name": "python",
   "nbconvert_exporter": "python",
   "pygments_lexer": "ipython3",
   "version": "3.12.3"
  }
 },
 "nbformat": 4,
 "nbformat_minor": 5
}
