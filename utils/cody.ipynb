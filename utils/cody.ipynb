{
 "cells": [
  {
   "cell_type": "code",
   "execution_count": 4,
   "id": "78f6dd50",
   "metadata": {},
   "outputs": [],
   "source": [
    "import httpx\n",
    "\n",
    "client = httpx.Client()\n",
    "\n",
    "response = client.post(\"https://cody.su/api/v1/get_api_key\")\n",
    "response.raise_for_status()\n",
    "\n",
    "api_key = response.json()[\"api_key\"]"
   ]
  },
  {
   "cell_type": "code",
   "execution_count": null,
   "id": "19709fd9",
   "metadata": {},
   "outputs": [
    {
     "name": "stdout",
     "output_type": "stream",
     "text": [
      "SyncPage[Model](data={'object': 'list', 'data': [{'id': 'deepseek-r1', 'object': 'text-model', 'created': 1751917000, 'owned_by': 'deepseek'}, {'id': 'deepseek-v3', 'object': 'text-model', 'created': 1751917000, 'owned_by': 'deepseek'}, {'id': 'grok-3-mini', 'object': 'text-model', 'created': 1751917000, 'owned_by': 'xai'}, {'id': 'gpt-4.1', 'object': 'text-model', 'created': 1751917000, 'owned_by': 'openai'}, {'id': 'gpt-4.1-nano', 'object': 'text-model', 'created': 1751917000, 'owned_by': 'openai'}, {'id': 'gpt-4o-mini', 'object': 'text-model', 'created': 1751917000, 'owned_by': 'openai'}, {'id': 'gpt-4o-mini-search-preview', 'object': 'text-model', 'created': 1751917000, 'owned_by': 'openai'}, {'id': 'gpt-4o-mini-audio-preview', 'object': 'text-model', 'created': 1751917000, 'owned_by': 'openai'}, {'id': 'llama-4-scout', 'object': 'text-model', 'created': 1751917000, 'owned_by': 'meta'}, {'id': 'qwen2.5-coder', 'object': 'text-model', 'created': 1751917000, 'owned_by': 'alibaba'}, {'id': 'phi-4-mini', 'object': 'text-model', 'created': 1751917000, 'owned_by': 'microsoft'}, {'id': 'mistral-small-3.1', 'object': 'text-model', 'created': 1751917000, 'owned_by': 'mistral'}, {'id': 'gpt-image-1', 'object': 'image-model', 'created': 1751917000, 'owned_by': 'openai'}, {'id': 'flux-kontext', 'object': 'image-model', 'created': 1751917000, 'owned_by': 'flux'}, {'id': 'flux', 'object': 'image-model', 'created': 1751917000, 'owned_by': 'flux'}]}, object='list')\n"
     ]
    }
   ],
   "source": [
    "from openai import OpenAI\n",
    "\n",
    "client = OpenAI(\n",
    "    base_url=\"https://cody.su/api/v1\",\n",
    "    api_key=api_key\n",
    ")\n",
    "# deepseek-r1\n",
    "# deepseek-v3\n",
    "# gpt-4.1\n",
    "# gpt-4o-mini\n",
    "# qwen2.5-coder\n",
    "print(client.models.list())"
   ]
  },
  {
   "cell_type": "code",
   "execution_count": 7,
   "id": "93e78cc5",
   "metadata": {},
   "outputs": [
    {
     "name": "stdout",
     "output_type": "stream",
     "text": [
      "Конечно, давай немного пофантазируем! Вот история про Шапокляк и компанию:\n",
      "\n",
      "***\n",
      "\n",
      "В тихом уголке у пруда, где камыши шепчут свои секреты, стояла серая скамейка, на которой обычно собиралась необычная компания: старушка Шапокляк в своем неизменном черном наряде, крыска Лариска, зорко следящая за бутербродами, и, чуть поодаль, Чебурашка с Гендой, поглядывающие одним глазом на друзей, другим — на корзинку с яблоками.\n",
      "\n",
      "— Чем сегодня займёмся? — спросила Шапокляк, покручивая зонтик с изогнутой ручкой. — Предлагаю немного повеселиться: пошалим в зоопарке!\n",
      "\n",
      "— Мы же уже обещали ничего такого не устраивать, — осторожно напомнил Геннадий, поправляя галстук. — После последнего раза директор долго качал головой.\n",
      "\n",
      "— Ой, ну и что. У кого-то планы на скуку? — Лариска подпрыгнула на скамейке, выглядела явно воодушевлённой.\n",
      "\n",
      "— Давайте лучше хороший поступок сделаем, — размышлял Чебурашка. — Например, поможем кому-то.\n",
      "\n",
      "Шапокляк закатила глаза:\n",
      "— Скукотища! Но идея мне нравится… Давайте, поможем кому-то. А потом уж немного и похулиганим — для равновесия!\n",
      "\n",
      "Они тронулись по парку. По пути встретили Веру с Павликом, у которых вырвался воздушный шарик. Шапокляк, не задумываясь, вытащила из своей сумочки огромный букет воздушных шариков (ей почему-то никогда не было жалко чужих радостей) и вручила детям. Чебурашка сиял от счастья, Гена одобрительно хмыкнул, Лариска намотала на шарик хвост.\n",
      "\n",
      "Потом, ради баланса (как и обещала Шапокляк), вся компания тайком развесила по парку таблички «Сегодня все разрешено» и наблюдала, как прохожие веселились: прыгали через лужи, кормили голубей пирожками и даже устраивали хороводы вокруг фонтана.\n",
      "\n",
      "— Вот это день! — сказала Лариска, глядя на закат.\n",
      "\n",
      "— Главное, чтобы никто не понял, что это мы, — хитро прищурилась Шапокляк.\n",
      "\n",
      "А на следующий день на той же скамейке их ждала табличка: «Спасибо за праздник!» И все улыбнулись — даже строгий Гена.\n",
      "\n",
      "***\n",
      "\n",
      "Если хочешь продолжение или приключения в другом стиле — дай знать!\n",
      "\n",
      "\n",
      "\n",
      "---\n",
      "\n",
      "**Sponsor**\n",
      "Ищете интересные истории для детей? Познакомьтесь с [Novakid Global ARABIC](https://pollinations.ai/redirect-nexad/SPZeEKja?user_id=983577) - онлайн-школой английского языка для детей от 4 до 12 лет! Здесь вашего ребенка ждут увлекательные уроки с опытными преподавателями-носителями языка, основанные на европейских стандартах CEFR. Подарите своему ребенку возможность изучать английский в интерактивной и безопасной среде, а наши профессиональные педагоги помогут развить интерес к учебе и подготовиться к будущим академическим успехам. Запишитесь сегодня и откройте мир английского языка вместе с Novakid!\n"
     ]
    }
   ],
   "source": [
    "client = OpenAI(\n",
    "    base_url=\"https://cody.su/api/v1\",\n",
    "    api_key=api_key, \n",
    ")\n",
    "\n",
    "completion = client.chat.completions.create(\n",
    "    model=\"gpt-4.1\",\n",
    "    messages=[\n",
    "        {\"role\": \"user\", \"content\": \"Привет, напиши историю про Шапокляк и его друзей\"},\n",
    "    ]\n",
    ")\n",
    "\n",
    "print(completion.choices[0].message.content)"
   ]
  },
  {
   "cell_type": "code",
   "execution_count": 9,
   "id": "88eb4070",
   "metadata": {},
   "outputs": [],
   "source": [
    "from openai import OpenAI\n",
    "import base64\n",
    "\n",
    "client = OpenAI(\n",
    "    base_url=\"https://cody.su/api/v1\",\n",
    "    api_key=api_key,\n",
    ")\n",
    "\n",
    "completion = client.chat.completions.create(\n",
    "    model=\"gpt-4o-mini-audio-preview\",\n",
    "    modalities=[\"text\", \"audio\"],\n",
    "    audio={\"voice\": \"alloy\", \"format\": \"wav\"},\n",
    "    messages=[\n",
    "        {\n",
    "            \"role\": \"user\",\n",
    "            \"content\": \"Коротко объясни, что такое Глубокое обучение\",\n",
    "        }\n",
    "    ]\n",
    ")\n",
    "\n",
    "wav_bytes = base64.b64decode(completion.choices[0].message.audio.data)\n",
    "with open(\"file.wav\", \"wb\") as f:\n",
    "    f.write(wav_bytes)"
   ]
  }
 ],
 "metadata": {
  "kernelspec": {
   "display_name": "Python 3",
   "language": "python",
   "name": "python3"
  },
  "language_info": {
   "codemirror_mode": {
    "name": "ipython",
    "version": 3
   },
   "file_extension": ".py",
   "mimetype": "text/x-python",
   "name": "python",
   "nbconvert_exporter": "python",
   "pygments_lexer": "ipython3",
   "version": "3.13.3"
  }
 },
 "nbformat": 4,
 "nbformat_minor": 5
}
